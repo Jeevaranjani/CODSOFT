{
 "cells": [
  {
   "cell_type": "code",
   "execution_count": 1,
   "id": "070b497a",
   "metadata": {},
   "outputs": [],
   "source": [
    "import numpy as np \n",
    "import pandas as pd\n",
    "import matplotlib.pyplot as plt \n",
    "import seaborn as sns"
   ]
  },
  {
   "cell_type": "code",
   "execution_count": 2,
   "id": "741f3ad9",
   "metadata": {},
   "outputs": [],
   "source": [
    "#here without using encoding=\"latin-1\" it shows error because some of the datas can't able to read.not in utf-8 format\n",
    "df=pd.read_csv(\"C:\\codsoft\\Movie Rating Prediction\\IMDb Movies India.csv\",encoding='latin-1')"
   ]
  },
  {
   "cell_type": "code",
   "execution_count": 3,
   "id": "96f089c8",
   "metadata": {},
   "outputs": [
    {
     "data": {
      "text/html": [
       "<div>\n",
       "<style scoped>\n",
       "    .dataframe tbody tr th:only-of-type {\n",
       "        vertical-align: middle;\n",
       "    }\n",
       "\n",
       "    .dataframe tbody tr th {\n",
       "        vertical-align: top;\n",
       "    }\n",
       "\n",
       "    .dataframe thead th {\n",
       "        text-align: right;\n",
       "    }\n",
       "</style>\n",
       "<table border=\"1\" class=\"dataframe\">\n",
       "  <thead>\n",
       "    <tr style=\"text-align: right;\">\n",
       "      <th></th>\n",
       "      <th>Name</th>\n",
       "      <th>Year</th>\n",
       "      <th>Duration</th>\n",
       "      <th>Genre</th>\n",
       "      <th>Rating</th>\n",
       "      <th>Votes</th>\n",
       "      <th>Director</th>\n",
       "      <th>Actor 1</th>\n",
       "      <th>Actor 2</th>\n",
       "      <th>Actor 3</th>\n",
       "    </tr>\n",
       "  </thead>\n",
       "  <tbody>\n",
       "    <tr>\n",
       "      <th>0</th>\n",
       "      <td></td>\n",
       "      <td>NaN</td>\n",
       "      <td>NaN</td>\n",
       "      <td>Drama</td>\n",
       "      <td>NaN</td>\n",
       "      <td>NaN</td>\n",
       "      <td>J.S. Randhawa</td>\n",
       "      <td>Manmauji</td>\n",
       "      <td>Birbal</td>\n",
       "      <td>Rajendra Bhatia</td>\n",
       "    </tr>\n",
       "    <tr>\n",
       "      <th>1</th>\n",
       "      <td>#Gadhvi (He thought he was Gandhi)</td>\n",
       "      <td>(2019)</td>\n",
       "      <td>109 min</td>\n",
       "      <td>Drama</td>\n",
       "      <td>7.0</td>\n",
       "      <td>8</td>\n",
       "      <td>Gaurav Bakshi</td>\n",
       "      <td>Rasika Dugal</td>\n",
       "      <td>Vivek Ghamande</td>\n",
       "      <td>Arvind Jangid</td>\n",
       "    </tr>\n",
       "    <tr>\n",
       "      <th>2</th>\n",
       "      <td>#Homecoming</td>\n",
       "      <td>(2021)</td>\n",
       "      <td>90 min</td>\n",
       "      <td>Drama, Musical</td>\n",
       "      <td>NaN</td>\n",
       "      <td>NaN</td>\n",
       "      <td>Soumyajit Majumdar</td>\n",
       "      <td>Sayani Gupta</td>\n",
       "      <td>Plabita Borthakur</td>\n",
       "      <td>Roy Angana</td>\n",
       "    </tr>\n",
       "    <tr>\n",
       "      <th>3</th>\n",
       "      <td>#Yaaram</td>\n",
       "      <td>(2019)</td>\n",
       "      <td>110 min</td>\n",
       "      <td>Comedy, Romance</td>\n",
       "      <td>4.4</td>\n",
       "      <td>35</td>\n",
       "      <td>Ovais Khan</td>\n",
       "      <td>Prateik</td>\n",
       "      <td>Ishita Raj</td>\n",
       "      <td>Siddhant Kapoor</td>\n",
       "    </tr>\n",
       "    <tr>\n",
       "      <th>4</th>\n",
       "      <td>...And Once Again</td>\n",
       "      <td>(2010)</td>\n",
       "      <td>105 min</td>\n",
       "      <td>Drama</td>\n",
       "      <td>NaN</td>\n",
       "      <td>NaN</td>\n",
       "      <td>Amol Palekar</td>\n",
       "      <td>Rajat Kapoor</td>\n",
       "      <td>Rituparna Sengupta</td>\n",
       "      <td>Antara Mali</td>\n",
       "    </tr>\n",
       "  </tbody>\n",
       "</table>\n",
       "</div>"
      ],
      "text/plain": [
       "                                 Name    Year Duration            Genre  \\\n",
       "0                                         NaN      NaN            Drama   \n",
       "1  #Gadhvi (He thought he was Gandhi)  (2019)  109 min            Drama   \n",
       "2                         #Homecoming  (2021)   90 min   Drama, Musical   \n",
       "3                             #Yaaram  (2019)  110 min  Comedy, Romance   \n",
       "4                   ...And Once Again  (2010)  105 min            Drama   \n",
       "\n",
       "   Rating Votes            Director       Actor 1             Actor 2  \\\n",
       "0     NaN   NaN       J.S. Randhawa      Manmauji              Birbal   \n",
       "1     7.0     8       Gaurav Bakshi  Rasika Dugal      Vivek Ghamande   \n",
       "2     NaN   NaN  Soumyajit Majumdar  Sayani Gupta   Plabita Borthakur   \n",
       "3     4.4    35          Ovais Khan       Prateik          Ishita Raj   \n",
       "4     NaN   NaN        Amol Palekar  Rajat Kapoor  Rituparna Sengupta   \n",
       "\n",
       "           Actor 3  \n",
       "0  Rajendra Bhatia  \n",
       "1    Arvind Jangid  \n",
       "2       Roy Angana  \n",
       "3  Siddhant Kapoor  \n",
       "4      Antara Mali  "
      ]
     },
     "execution_count": 3,
     "metadata": {},
     "output_type": "execute_result"
    }
   ],
   "source": [
    "df.head()"
   ]
  },
  {
   "cell_type": "code",
   "execution_count": 4,
   "id": "e1f17184",
   "metadata": {},
   "outputs": [
    {
     "data": {
      "text/plain": [
       "(15509, 10)"
      ]
     },
     "execution_count": 4,
     "metadata": {},
     "output_type": "execute_result"
    }
   ],
   "source": [
    "df.shape"
   ]
  },
  {
   "cell_type": "code",
   "execution_count": 5,
   "id": "c19d9ca1",
   "metadata": {},
   "outputs": [
    {
     "data": {
      "text/plain": [
       "Index(['Name', 'Year', 'Duration', 'Genre', 'Rating', 'Votes', 'Director',\n",
       "       'Actor 1', 'Actor 2', 'Actor 3'],\n",
       "      dtype='object')"
      ]
     },
     "execution_count": 5,
     "metadata": {},
     "output_type": "execute_result"
    }
   ],
   "source": [
    "df.columns"
   ]
  },
  {
   "cell_type": "code",
   "execution_count": 6,
   "id": "194fc9d1",
   "metadata": {},
   "outputs": [
    {
     "name": "stdout",
     "output_type": "stream",
     "text": [
      "<class 'pandas.core.frame.DataFrame'>\n",
      "RangeIndex: 15509 entries, 0 to 15508\n",
      "Data columns (total 10 columns):\n",
      " #   Column    Non-Null Count  Dtype  \n",
      "---  ------    --------------  -----  \n",
      " 0   Name      15509 non-null  object \n",
      " 1   Year      14981 non-null  object \n",
      " 2   Duration  7240 non-null   object \n",
      " 3   Genre     13632 non-null  object \n",
      " 4   Rating    7919 non-null   float64\n",
      " 5   Votes     7920 non-null   object \n",
      " 6   Director  14984 non-null  object \n",
      " 7   Actor 1   13892 non-null  object \n",
      " 8   Actor 2   13125 non-null  object \n",
      " 9   Actor 3   12365 non-null  object \n",
      "dtypes: float64(1), object(9)\n",
      "memory usage: 1.2+ MB\n"
     ]
    }
   ],
   "source": [
    "df.info()"
   ]
  },
  {
   "cell_type": "code",
   "execution_count": 7,
   "id": "7ae72747",
   "metadata": {},
   "outputs": [
    {
     "data": {
      "text/plain": [
       "Name           0\n",
       "Year         528\n",
       "Duration    8269\n",
       "Genre       1877\n",
       "Rating      7590\n",
       "Votes       7589\n",
       "Director     525\n",
       "Actor 1     1617\n",
       "Actor 2     2384\n",
       "Actor 3     3144\n",
       "dtype: int64"
      ]
     },
     "execution_count": 7,
     "metadata": {},
     "output_type": "execute_result"
    }
   ],
   "source": [
    "df.isna().sum()"
   ]
  },
  {
   "cell_type": "code",
   "execution_count": 8,
   "id": "70aa89f3",
   "metadata": {},
   "outputs": [
    {
     "data": {
      "text/plain": [
       "6"
      ]
     },
     "execution_count": 8,
     "metadata": {},
     "output_type": "execute_result"
    }
   ],
   "source": [
    "df.duplicated().sum()"
   ]
  },
  {
   "cell_type": "code",
   "execution_count": 9,
   "id": "35ede830",
   "metadata": {},
   "outputs": [
    {
     "data": {
      "text/plain": [
       "0"
      ]
     },
     "execution_count": 9,
     "metadata": {},
     "output_type": "execute_result"
    }
   ],
   "source": [
    "#drop the duplicate values\n",
    "df.drop_duplicates(inplace=True)\n",
    "df.duplicated().sum()"
   ]
  },
  {
   "cell_type": "code",
   "execution_count": 10,
   "id": "d7b468d0",
   "metadata": {},
   "outputs": [
    {
     "data": {
      "text/plain": [
       "(15503, 10)"
      ]
     },
     "execution_count": 10,
     "metadata": {},
     "output_type": "execute_result"
    }
   ],
   "source": [
    "df.shape"
   ]
  },
  {
   "cell_type": "code",
   "execution_count": 11,
   "id": "b5977b66",
   "metadata": {},
   "outputs": [
    {
     "data": {
      "text/plain": [
       "Name        13838\n",
       "Year          102\n",
       "Duration      182\n",
       "Genre         485\n",
       "Rating         84\n",
       "Votes        2034\n",
       "Director     5938\n",
       "Actor 1      4718\n",
       "Actor 2      4891\n",
       "Actor 3      4820\n",
       "dtype: int64"
      ]
     },
     "execution_count": 11,
     "metadata": {},
     "output_type": "execute_result"
    }
   ],
   "source": [
    "df.nunique()\n"
   ]
  },
  {
   "cell_type": "markdown",
   "id": "4b30372a",
   "metadata": {},
   "source": [
    "# IMPUTATION WITH MEAN AND MODE"
   ]
  },
  {
   "cell_type": "code",
   "execution_count": 12,
   "id": "67c18b90",
   "metadata": {},
   "outputs": [],
   "source": [
    "cat = list(df.columns[df.dtypes=='object'])"
   ]
  },
  {
   "cell_type": "code",
   "execution_count": 13,
   "id": "56b9aa9d",
   "metadata": {},
   "outputs": [],
   "source": [
    "mn = df['Rating'].mean()\n",
    "df['Rating'].fillna(mn,inplace=True)"
   ]
  },
  {
   "cell_type": "code",
   "execution_count": 14,
   "id": "975a1a14",
   "metadata": {},
   "outputs": [
    {
     "data": {
      "text/plain": [
       "Name           0\n",
       "Year         527\n",
       "Duration    8264\n",
       "Genre       1876\n",
       "Rating         0\n",
       "Votes       7583\n",
       "Director     524\n",
       "Actor 1     1615\n",
       "Actor 2     2381\n",
       "Actor 3     3140\n",
       "dtype: int64"
      ]
     },
     "execution_count": 14,
     "metadata": {},
     "output_type": "execute_result"
    }
   ],
   "source": [
    "df.isna().sum()"
   ]
  },
  {
   "cell_type": "code",
   "execution_count": 15,
   "id": "023d106e",
   "metadata": {},
   "outputs": [],
   "source": [
    "for i in cat:\n",
    "    m = df[i].mode()[0]\n",
    "    df[i].fillna(m,inplace=True)"
   ]
  },
  {
   "cell_type": "code",
   "execution_count": 16,
   "id": "b1fcbcf1",
   "metadata": {},
   "outputs": [
    {
     "data": {
      "text/plain": [
       "Name        0\n",
       "Year        0\n",
       "Duration    0\n",
       "Genre       0\n",
       "Rating      0\n",
       "Votes       0\n",
       "Director    0\n",
       "Actor 1     0\n",
       "Actor 2     0\n",
       "Actor 3     0\n",
       "dtype: int64"
      ]
     },
     "execution_count": 16,
     "metadata": {},
     "output_type": "execute_result"
    }
   ],
   "source": [
    "df.isna().sum()\n"
   ]
  },
  {
   "cell_type": "code",
   "execution_count": 17,
   "id": "1d09672e",
   "metadata": {},
   "outputs": [
    {
     "name": "stdout",
     "output_type": "stream",
     "text": [
      "object\n"
     ]
    }
   ],
   "source": [
    "print(df['Votes'].dtypes)"
   ]
  },
  {
   "cell_type": "code",
   "execution_count": 18,
   "id": "0e3bcb12",
   "metadata": {},
   "outputs": [],
   "source": [
    "#convert string into int \"year\" and \"votes\"\n",
    "df['Year']= df['Year'].str.strip('()').astype(int)\n",
    "df['Votes'] = df['Votes'].str.replace(',','')\n",
    "df['Votes'] = df['Votes'].str.replace('.','')\n",
    "df['Votes'] = df['Votes'].str.strip('$')\n",
    "df['Votes'] = df['Votes'].str.strip('M')\n",
    "df['Votes'] = df['Votes'].astype(int)"
   ]
  },
  {
   "cell_type": "markdown",
   "id": "633f3700",
   "metadata": {},
   "source": [
    "# DATA VISUALIZATION\n"
   ]
  },
  {
   "cell_type": "code",
   "execution_count": 19,
   "id": "7e0262f7",
   "metadata": {},
   "outputs": [],
   "source": [
    "genre = df['Genre']\n",
    "genre_stack = genre.str.split(',').apply(pd.Series).stack()\n",
    "genre_stack.index = genre_stack.index.droplevel(-1)\n",
    "g=[genre.str.split(',').apply(pd.Series)[i].str.strip().value_counts(dropna=False).to_dict() for i in range(3)]\n",
    "# g_dict = {}\n",
    "# for dic in g:\n",
    "#     for k,v in dic.items():\n",
    "#         if k in g_dict:\n",
    "#             g_dict[k]+=v\n",
    "#         else:\n",
    "#             g_dict[k]=v\n",
    "# below code does same job as above\n",
    "g_dict = {k: sum(dic.get(k,0) for dic in g) for dic in g for k in dic}\n",
    "genres_count = pd.Series(g_dict).sort_values(ascending=False).drop(np.nan)\n",
    "# Now for average rating of each genre\n",
    "# genre_rating = {}\n",
    "# for i in genres_count.index:\n",
    "#     genre_rating[i]=df.loc[df['Genre'].str.contains(i),'Rating'].mean().round(1)\n",
    "genre_rating = {k:df.loc[df['Genre'].str.contains(k),'Rating'].mean().round(1) for k in genres_count.index}\n",
    "genre_rating = pd.Series(genre_rating).sort_values(ascending=False)\n",
    "genres_single = pd.concat([genres_count,genre_rating],axis=1).sort_values(by=1,ascending=False).rename(columns={0:'Movie count',1:'Average rating'})\n",
    "genres_single.sort_values(by='Movie count',ascending=False,inplace=True)"
   ]
  },
  {
   "cell_type": "code",
   "execution_count": 20,
   "id": "660fac7e",
   "metadata": {},
   "outputs": [
    {
     "data": {
      "image/png": "[encoded data removed]",
      "text/plain": [
       "<Figure size 1500x500 with 1 Axes>"
      ]
     },
     "metadata": {},
     "output_type": "display_data"
    }
   ],
   "source": [
    "# genres_count = pd.Series(g_dict).sort_values(ascending=False).drop(np.nan)\n",
    "sns.set_style('darkgrid')\n",
    "plt.figure(figsize=(15,5))\n",
    "sns.barplot(data=genres_single,x=genres_single.index.values,y='Movie count',palette='coolwarm')\n",
    "plt.xlabel('Genre')\n",
    "plt.ylabel('Number of movies')\n",
    "plt.title('Number of movies in each genre')\n",
    "plt.xticks(rotation=90)\n",
    "plt.show()"
   ]
  },
  {
   "cell_type": "markdown",
   "id": "e9f1d920",
   "metadata": {},
   "source": [
    "The most of the movies are Drama,Action and followed by Romance"
   ]
  },
  {
   "cell_type": "code",
   "execution_count": 21,
   "id": "01dfd105",
   "metadata": {},
   "outputs": [
    {
     "data": {
      "image/png": "[encoded data removed]",
      "text/plain": [
       "<Figure size 500x500 with 1 Axes>"
      ]
     },
     "metadata": {},
     "output_type": "display_data"
    }
   ],
   "source": [
    "#sorting the Year and Rating by Rating then selecting the top one\n",
    "best_rating=df[['Year','Rating']].sort_values(by='Rating',ascending=False).head(1)\n",
    "\n",
    "\n",
    "#Plotting Bar Graph\n",
    "fig=plt.figure(figsize=(5,5))\n",
    "bars=plt.bar(x='Year',height='Rating',data=best_rating,color='seagreen')\n",
    "\n",
    "plt.xlabel(\"Year\",fontsize=15,fontweight='bold')\n",
    "plt.ylabel(\"Rating\",fontsize=15,fontweight='bold')\n",
    "plt.title(\"Best Rated Year\",fontsize=20,fontweight='bold')\n",
    "\n",
    "plt.xticks(fontweight='bold',rotation=0)\n",
    "plt.yticks(np.arange(0,13,2),fontweight='bold')\n",
    "\n",
    "\n",
    "#Plotting the labels for Bars for better visualization\n",
    "for ele in bars:\n",
    "    plt.text(ele.get_x()+(ele.get_width()/2),ele.get_y()+ele.get_height(),ele.get_height(),color='black',ha='center',\n",
    "             va='bottom',fontsize=15)\n",
    "\n"
   ]
  },
  {
   "cell_type": "markdown",
   "id": "9ca7d83a",
   "metadata": {},
   "source": [
    "Year 2020 an Indian movie recieved 10.0 points"
   ]
  },
  {
   "cell_type": "code",
   "execution_count": 22,
   "id": "09e50233",
   "metadata": {
    "scrolled": true
   },
   "outputs": [
    {
     "data": {
      "image/png": "[encoded data removed]",
      "text/plain": [
       "<Figure size 600x800 with 1 Axes>"
      ]
     },
     "metadata": {},
     "output_type": "display_data"
    }
   ],
   "source": [
    "#Top 10 Actors Who appears in most of the movies\n",
    "#Making Series for the all the columns of Actors\n",
    "Actor1=df['Actor 1']\n",
    "Actor2=df['Actor 2']\n",
    "Actor3=df['Actor 3']\n",
    "\n",
    "#Concatinating the series in one series\n",
    "Actors = pd.concat([Actor1,Actor2,Actor3])\n",
    "\n",
    "#sorting series by counts then selecting top 10\n",
    "frequent_actor=Actors.value_counts().sort_values(ascending=False).head(10)\n",
    "\n",
    "#Plotting Bar graph\n",
    "frequent_actor.sort_values().plot(kind='barh',color='#029386',figsize=(6,8))\n",
    "\n",
    "plt.title('Top 10 Actors',fontweight='bold',fontsize=20)\n",
    "plt.xlabel('Count',fontweight='bold',fontsize=15)\n",
    "plt.ylabel('Actor',fontweight='bold',fontsize=15)\n",
    "plt.xticks(fontweight='bold')\n",
    "plt.yticks(fontweight='bold')\n",
    "plt.show()\n"
   ]
  },
  {
   "cell_type": "markdown",
   "id": "66ab8032",
   "metadata": {},
   "source": [
    "pran appears in most of the movies"
   ]
  },
  {
   "cell_type": "code",
   "execution_count": 23,
   "id": "88c6b82d",
   "metadata": {},
   "outputs": [
    {
     "data": {
      "image/png": "[encoded data removed]",
      "text/plain": [
       "<Figure size 1500x600 with 1 Axes>"
      ]
     },
     "metadata": {},
     "output_type": "display_data"
    },
    {
     "data": {
      "image/png": "[encoded data removed]",
      "text/plain": [
       "<Figure size 1500x600 with 1 Axes>"
      ]
     },
     "metadata": {},
     "output_type": "display_data"
    },
    {
     "data": {
      "image/png": "[encoded data removed]",
      "text/plain": [
       "<Figure size 1500x600 with 1 Axes>"
      ]
     },
     "metadata": {},
     "output_type": "display_data"
    },
    {
     "data": {
      "image/png": "[encoded data removed]",
      "text/plain": [
       "<Figure size 1500x600 with 1 Axes>"
      ]
     },
     "metadata": {},
     "output_type": "display_data"
    }
   ],
   "source": [
    "#Creating a Function for plotting graphs \n",
    "def top10(dframe, column):\n",
    "    dframe[column].value_counts().sort_values(ascending=False).head(10).plot(kind='bar',\n",
    "                                                                            figsize=(15,6),color='#988ED5')\n",
    "    \n",
    "    plt.xlabel(column,fontsize=15,fontweight='bold')\n",
    "    plt.ylabel('Count',fontweight='bold',fontsize=15)\n",
    "    plt.title(\"Top 10 {}\".format(column),fontsize=25,fontweight='bold')\n",
    "    plt.xticks(rotation=0,fontsize=9,fontweight='bold')\n",
    "    plt.yticks(fontsize=10,fontweight='bold')\n",
    "    plt.show()\n",
    "\n",
    "#Looping the columns then calling the function to plot graph\n",
    "cols=['Director','Actor 1','Actor 2','Actor 3']\n",
    "for items in cols:\n",
    "    top10(df, items)\n"
   ]
  },
  {
   "cell_type": "code",
   "execution_count": 24,
   "id": "c00710d0",
   "metadata": {},
   "outputs": [
    {
     "data": {
      "text/html": [
       "<div>\n",
       "<style scoped>\n",
       "    .dataframe tbody tr th:only-of-type {\n",
       "        vertical-align: middle;\n",
       "    }\n",
       "\n",
       "    .dataframe tbody tr th {\n",
       "        vertical-align: top;\n",
       "    }\n",
       "\n",
       "    .dataframe thead th {\n",
       "        text-align: right;\n",
       "    }\n",
       "</style>\n",
       "<table border=\"1\" class=\"dataframe\">\n",
       "  <thead>\n",
       "    <tr style=\"text-align: right;\">\n",
       "      <th></th>\n",
       "      <th>Year</th>\n",
       "      <th>Genre</th>\n",
       "      <th>Rating</th>\n",
       "      <th>Votes</th>\n",
       "      <th>Director</th>\n",
       "      <th>Actor 1</th>\n",
       "      <th>Actor 2</th>\n",
       "      <th>Actor 3</th>\n",
       "    </tr>\n",
       "  </thead>\n",
       "  <tbody>\n",
       "    <tr>\n",
       "      <th>0</th>\n",
       "      <td>2019</td>\n",
       "      <td>Drama</td>\n",
       "      <td>5.841621</td>\n",
       "      <td>8</td>\n",
       "      <td>J.S. Randhawa</td>\n",
       "      <td>Manmauji</td>\n",
       "      <td>Birbal</td>\n",
       "      <td>Rajendra Bhatia</td>\n",
       "    </tr>\n",
       "    <tr>\n",
       "      <th>1</th>\n",
       "      <td>2019</td>\n",
       "      <td>Drama</td>\n",
       "      <td>7.000000</td>\n",
       "      <td>8</td>\n",
       "      <td>Gaurav Bakshi</td>\n",
       "      <td>Rasika Dugal</td>\n",
       "      <td>Vivek Ghamande</td>\n",
       "      <td>Arvind Jangid</td>\n",
       "    </tr>\n",
       "    <tr>\n",
       "      <th>2</th>\n",
       "      <td>2021</td>\n",
       "      <td>Drama, Musical</td>\n",
       "      <td>5.841621</td>\n",
       "      <td>8</td>\n",
       "      <td>Soumyajit Majumdar</td>\n",
       "      <td>Sayani Gupta</td>\n",
       "      <td>Plabita Borthakur</td>\n",
       "      <td>Roy Angana</td>\n",
       "    </tr>\n",
       "    <tr>\n",
       "      <th>3</th>\n",
       "      <td>2019</td>\n",
       "      <td>Comedy, Romance</td>\n",
       "      <td>4.400000</td>\n",
       "      <td>35</td>\n",
       "      <td>Ovais Khan</td>\n",
       "      <td>Prateik</td>\n",
       "      <td>Ishita Raj</td>\n",
       "      <td>Siddhant Kapoor</td>\n",
       "    </tr>\n",
       "    <tr>\n",
       "      <th>4</th>\n",
       "      <td>2010</td>\n",
       "      <td>Drama</td>\n",
       "      <td>5.841621</td>\n",
       "      <td>8</td>\n",
       "      <td>Amol Palekar</td>\n",
       "      <td>Rajat Kapoor</td>\n",
       "      <td>Rituparna Sengupta</td>\n",
       "      <td>Antara Mali</td>\n",
       "    </tr>\n",
       "  </tbody>\n",
       "</table>\n",
       "</div>"
      ],
      "text/plain": [
       "   Year            Genre    Rating  Votes            Director       Actor 1  \\\n",
       "0  2019            Drama  5.841621      8       J.S. Randhawa      Manmauji   \n",
       "1  2019            Drama  7.000000      8       Gaurav Bakshi  Rasika Dugal   \n",
       "2  2021   Drama, Musical  5.841621      8  Soumyajit Majumdar  Sayani Gupta   \n",
       "3  2019  Comedy, Romance  4.400000     35          Ovais Khan       Prateik   \n",
       "4  2010            Drama  5.841621      8        Amol Palekar  Rajat Kapoor   \n",
       "\n",
       "              Actor 2          Actor 3  \n",
       "0              Birbal  Rajendra Bhatia  \n",
       "1      Vivek Ghamande    Arvind Jangid  \n",
       "2   Plabita Borthakur       Roy Angana  \n",
       "3          Ishita Raj  Siddhant Kapoor  \n",
       "4  Rituparna Sengupta      Antara Mali  "
      ]
     },
     "execution_count": 24,
     "metadata": {},
     "output_type": "execute_result"
    }
   ],
   "source": [
    "#here dropping movie names and duration column because it doesn't act as imp for our prediction\n",
    "df=df.drop(columns=[\"Name\",\"Duration\"])\n",
    "df.head()"
   ]
  },
  {
   "cell_type": "code",
   "execution_count": 25,
   "id": "8f002b32",
   "metadata": {},
   "outputs": [
    {
     "data": {
      "text/plain": [
       "Index(['Year', 'Genre', 'Rating', 'Votes', 'Director', 'Actor 1', 'Actor 2',\n",
       "       'Actor 3'],\n",
       "      dtype='object')"
      ]
     },
     "execution_count": 25,
     "metadata": {},
     "output_type": "execute_result"
    }
   ],
   "source": [
    "df.columns"
   ]
  },
  {
   "cell_type": "markdown",
   "id": "1faf4472",
   "metadata": {},
   "source": [
    "# Target Encoding"
   ]
  },
  {
   "cell_type": "code",
   "execution_count": 26,
   "id": "dbe41cec",
   "metadata": {},
   "outputs": [
    {
     "data": {
      "text/html": [
       "<div>\n",
       "<style scoped>\n",
       "    .dataframe tbody tr th:only-of-type {\n",
       "        vertical-align: middle;\n",
       "    }\n",
       "\n",
       "    .dataframe tbody tr th {\n",
       "        vertical-align: top;\n",
       "    }\n",
       "\n",
       "    .dataframe thead th {\n",
       "        text-align: right;\n",
       "    }\n",
       "</style>\n",
       "<table border=\"1\" class=\"dataframe\">\n",
       "  <thead>\n",
       "    <tr style=\"text-align: right;\">\n",
       "      <th></th>\n",
       "      <th>Year</th>\n",
       "      <th>Rating</th>\n",
       "      <th>Genre encoded</th>\n",
       "      <th>Votes encoded</th>\n",
       "      <th>Director encoded</th>\n",
       "      <th>Actor 1 encoded</th>\n",
       "      <th>Actor 2 encoded</th>\n",
       "      <th>Actor 3 encoded</th>\n",
       "    </tr>\n",
       "  </thead>\n",
       "  <tbody>\n",
       "    <tr>\n",
       "      <th>0</th>\n",
       "      <td>2019</td>\n",
       "      <td>5.8</td>\n",
       "      <td>6.0</td>\n",
       "      <td>5.8</td>\n",
       "      <td>5.8</td>\n",
       "      <td>5.8</td>\n",
       "      <td>5.5</td>\n",
       "      <td>5.8</td>\n",
       "    </tr>\n",
       "    <tr>\n",
       "      <th>1</th>\n",
       "      <td>2019</td>\n",
       "      <td>7.0</td>\n",
       "      <td>6.0</td>\n",
       "      <td>5.8</td>\n",
       "      <td>7.0</td>\n",
       "      <td>6.8</td>\n",
       "      <td>7.0</td>\n",
       "      <td>7.0</td>\n",
       "    </tr>\n",
       "    <tr>\n",
       "      <th>2</th>\n",
       "      <td>2021</td>\n",
       "      <td>5.8</td>\n",
       "      <td>6.3</td>\n",
       "      <td>5.8</td>\n",
       "      <td>5.8</td>\n",
       "      <td>6.2</td>\n",
       "      <td>6.8</td>\n",
       "      <td>5.8</td>\n",
       "    </tr>\n",
       "    <tr>\n",
       "      <th>3</th>\n",
       "      <td>2019</td>\n",
       "      <td>4.4</td>\n",
       "      <td>5.7</td>\n",
       "      <td>5.9</td>\n",
       "      <td>4.4</td>\n",
       "      <td>5.4</td>\n",
       "      <td>4.4</td>\n",
       "      <td>4.4</td>\n",
       "    </tr>\n",
       "    <tr>\n",
       "      <th>4</th>\n",
       "      <td>2010</td>\n",
       "      <td>5.8</td>\n",
       "      <td>6.0</td>\n",
       "      <td>5.8</td>\n",
       "      <td>6.3</td>\n",
       "      <td>6.8</td>\n",
       "      <td>5.8</td>\n",
       "      <td>5.5</td>\n",
       "    </tr>\n",
       "  </tbody>\n",
       "</table>\n",
       "</div>"
      ],
      "text/plain": [
       "   Year  Rating  Genre encoded  Votes encoded  Director encoded  \\\n",
       "0  2019     5.8            6.0            5.8               5.8   \n",
       "1  2019     7.0            6.0            5.8               7.0   \n",
       "2  2021     5.8            6.3            5.8               5.8   \n",
       "3  2019     4.4            5.7            5.9               4.4   \n",
       "4  2010     5.8            6.0            5.8               6.3   \n",
       "\n",
       "   Actor 1 encoded  Actor 2 encoded  Actor 3 encoded  \n",
       "0              5.8              5.5              5.8  \n",
       "1              6.8              7.0              7.0  \n",
       "2              6.2              6.8              5.8  \n",
       "3              5.4              4.4              4.4  \n",
       "4              6.8              5.8              5.5  "
      ]
     },
     "execution_count": 26,
     "metadata": {},
     "output_type": "execute_result"
    }
   ],
   "source": [
    "\n",
    "# performing mean encoding\n",
    "df['Genre encoded'] = round(df.groupby('Genre')['Rating'].transform('mean'),1)\n",
    "df['Votes encoded'] = round(df.groupby('Votes')['Rating'].transform('mean'),1)\n",
    "df['Director encoded'] = round(df.groupby('Director')['Rating'].transform('mean'),1)\n",
    "df['Actor 1 encoded'] = round(df.groupby('Actor 1')['Rating'].transform('mean'),1)\n",
    "df['Actor 2 encoded'] = round(df.groupby('Actor 2')['Rating'].transform('mean'),1)\n",
    "df['Actor 3 encoded'] = round(df.groupby('Actor 3')['Rating'].transform('mean'),1)\n",
    "\n",
    "df.drop(columns=['Genre','Votes','Director','Actor 1','Actor 2','Actor 3'],inplace=True)\n",
    "df['Rating'] = round(df['Rating'],1)\n",
    "df.head()"
   ]
  },
  {
   "cell_type": "code",
   "execution_count": 27,
   "id": "1f9cae7f",
   "metadata": {},
   "outputs": [
    {
     "data": {
      "text/plain": [
       "Rating              1.000000\n",
       "Director encoded    0.736431\n",
       "Actor 3 encoded     0.684941\n",
       "Actor 2 encoded     0.682479\n",
       "Actor 1 encoded     0.679122\n",
       "Votes encoded       0.551895\n",
       "Genre encoded       0.334980\n",
       "Year               -0.090641\n",
       "Name: Rating, dtype: float64"
      ]
     },
     "execution_count": 27,
     "metadata": {},
     "output_type": "execute_result"
    }
   ],
   "source": [
    "#Correlation\n",
    "corr_df = df.corr(numeric_only=True)\n",
    "corr_df['Rating'].sort_values(ascending=False)"
   ]
  },
  {
   "cell_type": "code",
   "execution_count": 28,
   "id": "e3f80be8",
   "metadata": {},
   "outputs": [
    {
     "data": {
      "text/plain": [
       "<Axes: >"
      ]
     },
     "execution_count": 28,
     "metadata": {},
     "output_type": "execute_result"
    },
    {
     "data": {
      "image/png": "[encoded data removed]",
      "text/plain": [
       "<Figure size 640x480 with 2 Axes>"
      ]
     },
     "metadata": {},
     "output_type": "display_data"
    }
   ],
   "source": [
    "sns.heatmap(corr_df,annot=False,cmap='coolwarm')"
   ]
  },
  {
   "cell_type": "markdown",
   "id": "0bb52212",
   "metadata": {},
   "source": [
    "The correlation plot indicate that the director, specific actors, and number of votes have a strong positive relationship with higher movie ratings, while the genre has a weaker positive correlation, and the year of release has a negligible negative correlation.\n",
    "\n"
   ]
  },
  {
   "cell_type": "markdown",
   "id": "75ef2a4a",
   "metadata": {},
   "source": [
    "# split the data"
   ]
  },
  {
   "cell_type": "code",
   "execution_count": 29,
   "id": "aa116af5",
   "metadata": {},
   "outputs": [],
   "source": [
    "\n",
    "X = df.drop(columns='Rating')\n",
    "Y =df[['Rating']]"
   ]
  },
  {
   "cell_type": "code",
   "execution_count": 30,
   "id": "2c06a056",
   "metadata": {},
   "outputs": [
    {
     "data": {
      "text/html": [
       "<div>\n",
       "<style scoped>\n",
       "    .dataframe tbody tr th:only-of-type {\n",
       "        vertical-align: middle;\n",
       "    }\n",
       "\n",
       "    .dataframe tbody tr th {\n",
       "        vertical-align: top;\n",
       "    }\n",
       "\n",
       "    .dataframe thead th {\n",
       "        text-align: right;\n",
       "    }\n",
       "</style>\n",
       "<table border=\"1\" class=\"dataframe\">\n",
       "  <thead>\n",
       "    <tr style=\"text-align: right;\">\n",
       "      <th></th>\n",
       "      <th>Year</th>\n",
       "      <th>Genre encoded</th>\n",
       "      <th>Votes encoded</th>\n",
       "      <th>Director encoded</th>\n",
       "      <th>Actor 1 encoded</th>\n",
       "      <th>Actor 2 encoded</th>\n",
       "      <th>Actor 3 encoded</th>\n",
       "    </tr>\n",
       "  </thead>\n",
       "  <tbody>\n",
       "    <tr>\n",
       "      <th>0</th>\n",
       "      <td>2019</td>\n",
       "      <td>6.0</td>\n",
       "      <td>5.8</td>\n",
       "      <td>5.8</td>\n",
       "      <td>5.8</td>\n",
       "      <td>5.5</td>\n",
       "      <td>5.8</td>\n",
       "    </tr>\n",
       "    <tr>\n",
       "      <th>1</th>\n",
       "      <td>2019</td>\n",
       "      <td>6.0</td>\n",
       "      <td>5.8</td>\n",
       "      <td>7.0</td>\n",
       "      <td>6.8</td>\n",
       "      <td>7.0</td>\n",
       "      <td>7.0</td>\n",
       "    </tr>\n",
       "    <tr>\n",
       "      <th>2</th>\n",
       "      <td>2021</td>\n",
       "      <td>6.3</td>\n",
       "      <td>5.8</td>\n",
       "      <td>5.8</td>\n",
       "      <td>6.2</td>\n",
       "      <td>6.8</td>\n",
       "      <td>5.8</td>\n",
       "    </tr>\n",
       "    <tr>\n",
       "      <th>3</th>\n",
       "      <td>2019</td>\n",
       "      <td>5.7</td>\n",
       "      <td>5.9</td>\n",
       "      <td>4.4</td>\n",
       "      <td>5.4</td>\n",
       "      <td>4.4</td>\n",
       "      <td>4.4</td>\n",
       "    </tr>\n",
       "    <tr>\n",
       "      <th>4</th>\n",
       "      <td>2010</td>\n",
       "      <td>6.0</td>\n",
       "      <td>5.8</td>\n",
       "      <td>6.3</td>\n",
       "      <td>6.8</td>\n",
       "      <td>5.8</td>\n",
       "      <td>5.5</td>\n",
       "    </tr>\n",
       "  </tbody>\n",
       "</table>\n",
       "</div>"
      ],
      "text/plain": [
       "   Year  Genre encoded  Votes encoded  Director encoded  Actor 1 encoded  \\\n",
       "0  2019            6.0            5.8               5.8              5.8   \n",
       "1  2019            6.0            5.8               7.0              6.8   \n",
       "2  2021            6.3            5.8               5.8              6.2   \n",
       "3  2019            5.7            5.9               4.4              5.4   \n",
       "4  2010            6.0            5.8               6.3              6.8   \n",
       "\n",
       "   Actor 2 encoded  Actor 3 encoded  \n",
       "0              5.5              5.8  \n",
       "1              7.0              7.0  \n",
       "2              6.8              5.8  \n",
       "3              4.4              4.4  \n",
       "4              5.8              5.5  "
      ]
     },
     "execution_count": 30,
     "metadata": {},
     "output_type": "execute_result"
    }
   ],
   "source": [
    "X.head()"
   ]
  },
  {
   "cell_type": "code",
   "execution_count": 31,
   "id": "4a3a766d",
   "metadata": {},
   "outputs": [
    {
     "data": {
      "text/html": [
       "<div>\n",
       "<style scoped>\n",
       "    .dataframe tbody tr th:only-of-type {\n",
       "        vertical-align: middle;\n",
       "    }\n",
       "\n",
       "    .dataframe tbody tr th {\n",
       "        vertical-align: top;\n",
       "    }\n",
       "\n",
       "    .dataframe thead th {\n",
       "        text-align: right;\n",
       "    }\n",
       "</style>\n",
       "<table border=\"1\" class=\"dataframe\">\n",
       "  <thead>\n",
       "    <tr style=\"text-align: right;\">\n",
       "      <th></th>\n",
       "      <th>Rating</th>\n",
       "    </tr>\n",
       "  </thead>\n",
       "  <tbody>\n",
       "    <tr>\n",
       "      <th>0</th>\n",
       "      <td>5.8</td>\n",
       "    </tr>\n",
       "    <tr>\n",
       "      <th>1</th>\n",
       "      <td>7.0</td>\n",
       "    </tr>\n",
       "    <tr>\n",
       "      <th>2</th>\n",
       "      <td>5.8</td>\n",
       "    </tr>\n",
       "    <tr>\n",
       "      <th>3</th>\n",
       "      <td>4.4</td>\n",
       "    </tr>\n",
       "    <tr>\n",
       "      <th>4</th>\n",
       "      <td>5.8</td>\n",
       "    </tr>\n",
       "  </tbody>\n",
       "</table>\n",
       "</div>"
      ],
      "text/plain": [
       "   Rating\n",
       "0     5.8\n",
       "1     7.0\n",
       "2     5.8\n",
       "3     4.4\n",
       "4     5.8"
      ]
     },
     "execution_count": 31,
     "metadata": {},
     "output_type": "execute_result"
    }
   ],
   "source": [
    "Y.head()"
   ]
  },
  {
   "cell_type": "code",
   "execution_count": 32,
   "id": "0c603bee",
   "metadata": {},
   "outputs": [],
   "source": [
    "from sklearn.model_selection import train_test_split\n",
    "xtrain, xtest, ytrain, ytest = train_test_split(X,Y,test_size=0.20,random_state=45)"
   ]
  },
  {
   "cell_type": "markdown",
   "id": "198aa15e",
   "metadata": {},
   "source": [
    "# Model Building"
   ]
  },
  {
   "cell_type": "code",
   "execution_count": 33,
   "id": "9edb66c6",
   "metadata": {},
   "outputs": [],
   "source": [
    "from sklearn.linear_model import LinearRegression\n",
    "from sklearn.tree import DecisionTreeRegressor\n",
    "from sklearn.ensemble import RandomForestRegressor,GradientBoostingRegressor\n",
    "from sklearn.neighbors import KNeighborsRegressor\n",
    "from sklearn.svm import SVR\n",
    "from sklearn.model_selection import RandomizedSearchCV"
   ]
  },
  {
   "cell_type": "code",
   "execution_count": 34,
   "id": "85310ece",
   "metadata": {},
   "outputs": [],
   "source": [
    "dct = {\n",
    "    'Linear':LinearRegression(),\n",
    "    'DecisionTree':DecisionTreeRegressor(),\n",
    "    'RandomForest':RandomForestRegressor(),\n",
    "    'GradientBoosting':GradientBoostingRegressor(),\n",
    "    'KNN':KNeighborsRegressor(),\n",
    "    'SVR':SVR()\n",
    "}"
   ]
  },
  {
   "cell_type": "code",
   "execution_count": 35,
   "id": "6c96d48f",
   "metadata": {},
   "outputs": [
    {
     "data": {
      "text/plain": [
       "dict_items([('Linear', LinearRegression()), ('DecisionTree', DecisionTreeRegressor()), ('RandomForest', RandomForestRegressor()), ('GradientBoosting', GradientBoostingRegressor()), ('KNN', KNeighborsRegressor()), ('SVR', SVR())])"
      ]
     },
     "execution_count": 35,
     "metadata": {},
     "output_type": "execute_result"
    }
   ],
   "source": [
    "dct.items()"
   ]
  },
  {
   "cell_type": "code",
   "execution_count": 36,
   "id": "c0666bcc",
   "metadata": {},
   "outputs": [],
   "source": [
    "from sklearn.metrics import mean_squared_error,r2_score"
   ]
  },
  {
   "cell_type": "code",
   "execution_count": 37,
   "id": "4041ecdb",
   "metadata": {},
   "outputs": [
    {
     "name": "stdout",
     "output_type": "stream",
     "text": [
      "Scores for Linear\n",
      "Training Scores\n",
      "MSE:[0.24531847799073211]\n",
      "R2:[74.79881362121868]\n",
      "Testing Scores\n",
      "MSE:[0.25099640127545564]\n",
      "R2:[74.45782377297292]\n",
      "===============================\n",
      "Scores for DecisionTree\n",
      "Training Scores\n",
      "MSE:[0.24531847799073211, 0.00019728000860076329]\n",
      "R2:[74.79881362121868, 99.97973373100031]\n",
      "Testing Scores\n",
      "MSE:[0.25099640127545564, 0.4042348346411552]\n",
      "R2:[74.45782377297292, 58.86380310219531]\n",
      "===============================\n"
     ]
    },
    {
     "name": "stderr",
     "output_type": "stream",
     "text": [
      "C:\\Users\\djeev\\anaconda3\\Lib\\site-packages\\sklearn\\base.py:1474: DataConversionWarning: A column-vector y was passed when a 1d array was expected. Please change the shape of y to (n_samples,), for example using ravel().\n",
      "  return fit_method(estimator, *args, **kwargs)\n"
     ]
    },
    {
     "name": "stdout",
     "output_type": "stream",
     "text": [
      "Scores for RandomForest\n",
      "Training Scores\n",
      "MSE:[0.24531847799073211, 0.00019728000860076329, 0.027984998157948693]\n",
      "R2:[74.79881362121868, 99.97973373100031, 97.12514458688692]\n",
      "Testing Scores\n",
      "MSE:[0.25099640127545564, 0.4042348346411552, 0.19399634181236516]\n",
      "R2:[74.45782377297292, 58.86380310219531, 80.25832751071175]\n",
      "===============================\n"
     ]
    },
    {
     "name": "stderr",
     "output_type": "stream",
     "text": [
      "C:\\Users\\djeev\\anaconda3\\Lib\\site-packages\\sklearn\\ensemble\\_gb.py:668: DataConversionWarning: A column-vector y was passed when a 1d array was expected. Please change the shape of y to (n_samples, ), for example using ravel().\n",
      "  y = column_or_1d(y, warn=True)  # TODO: Is this still required?\n"
     ]
    },
    {
     "name": "stdout",
     "output_type": "stream",
     "text": [
      "Scores for GradientBoosting\n",
      "Training Scores\n",
      "MSE:[0.24531847799073211, 0.00019728000860076329, 0.027984998157948693, 0.19007215177095296]\n",
      "R2:[74.79881362121868, 99.97973373100031, 97.12514458688692, 80.47418294199282]\n",
      "Testing Scores\n",
      "MSE:[0.25099640127545564, 0.4042348346411552, 0.19399634181236516, 0.21026329168753097]\n",
      "R2:[74.45782377297292, 58.86380310219531, 80.25832751071175, 78.60295198231238]\n",
      "===============================\n",
      "Scores for KNN\n",
      "Training Scores\n",
      "MSE:[0.24531847799073211, 0.00019728000860076329, 0.027984998157948693, 0.19007215177095296, 0.17733201096597323]\n",
      "R2:[74.79881362121868, 99.97973373100031, 97.12514458688692, 80.47418294199282, 81.78295782739033]\n",
      "Testing Scores\n",
      "MSE:[0.25099640127545564, 0.4042348346411552, 0.19399634181236516, 0.21026329168753097, 0.2846245727184779]\n",
      "R2:[74.45782377297292, 58.86380310219531, 80.25832751071175, 78.60295198231238, 71.03571621754341]\n",
      "===============================\n"
     ]
    },
    {
     "name": "stderr",
     "output_type": "stream",
     "text": [
      "C:\\Users\\djeev\\anaconda3\\Lib\\site-packages\\sklearn\\utils\\validation.py:1300: DataConversionWarning: A column-vector y was passed when a 1d array was expected. Please change the shape of y to (n_samples, ), for example using ravel().\n",
      "  y = column_or_1d(y, warn=True)\n"
     ]
    },
    {
     "name": "stdout",
     "output_type": "stream",
     "text": [
      "Scores for SVR\n",
      "Training Scores\n",
      "MSE:[0.24531847799073211, 0.00019728000860076329, 0.027984998157948693, 0.19007215177095296, 0.17733201096597323, 0.9700293396605114]\n",
      "R2:[74.79881362121868, 99.97973373100031, 97.12514458688692, 80.47418294199282, 81.78295782739033, 0.35039193992451034]\n",
      "Testing Scores\n",
      "MSE:[0.25099640127545564, 0.4042348346411552, 0.19399634181236516, 0.21026329168753097, 0.2846245727184779, 0.9744958015449632]\n",
      "R2:[74.45782377297292, 58.86380310219531, 80.25832751071175, 78.60295198231238, 71.03571621754341, 0.8322694306555078]\n",
      "===============================\n"
     ]
    }
   ],
   "source": [
    "train_mse = []\n",
    "train_r2 = []\n",
    "test_mse = []\n",
    "test_r2 = []\n",
    "\n",
    "\n",
    "for name,model in dct.items():\n",
    "    # fit the model\n",
    "    m = model.fit(xtrain,ytrain)\n",
    "    ypred_train = m.predict(xtrain)\n",
    "    ypred_test = m.predict(xtest)\n",
    "    # calculate MSE\n",
    "    mse_train = mean_squared_error(ytrain,ypred_train)\n",
    "    mse_test = mean_squared_error(ytest,ypred_test)\n",
    "    # caluclate R2\n",
    "    r2_train = (r2_score(ytrain,ypred_train))*100\n",
    "    r2_test = (r2_score(ytest,ypred_test))*100\n",
    "  \n",
    "\n",
    "    # add these values to the respective list to compare the output\n",
    "    train_mse.append(mse_train)\n",
    "    train_r2.append(r2_train)\n",
    "    test_mse.append(mse_test)\n",
    "    test_r2.append(r2_test)\n",
    "   \n",
    "\n",
    "    # print the results\n",
    "    print(f'Scores for {name}')\n",
    "    print(\"Training Scores\")\n",
    "    print(f'MSE:{train_mse}')\n",
    "    print(f'R2:{train_r2}')\n",
    "    print(\"Testing Scores\")\n",
    "    print(f'MSE:{test_mse}')\n",
    "    print(f'R2:{test_r2}')\n",
    "    print(\"===============================\")"
   ]
  },
  {
   "cell_type": "code",
   "execution_count": 38,
   "id": "ee0bbaa5",
   "metadata": {},
   "outputs": [],
   "source": [
    "res = {'Name':list(dct.keys()),\n",
    "       'MSE Training Scores':train_mse,\n",
    "       'MSE Testing Scores':test_mse,\n",
    "       'R2 Training Scores':train_r2,\n",
    "       'R2 Testing Scores':test_r2,}"
   ]
  },
  {
   "cell_type": "code",
   "execution_count": 39,
   "id": "7e074b16",
   "metadata": {},
   "outputs": [
    {
     "data": {
      "text/html": [
       "<div>\n",
       "<style scoped>\n",
       "    .dataframe tbody tr th:only-of-type {\n",
       "        vertical-align: middle;\n",
       "    }\n",
       "\n",
       "    .dataframe tbody tr th {\n",
       "        vertical-align: top;\n",
       "    }\n",
       "\n",
       "    .dataframe thead th {\n",
       "        text-align: right;\n",
       "    }\n",
       "</style>\n",
       "<table border=\"1\" class=\"dataframe\">\n",
       "  <thead>\n",
       "    <tr style=\"text-align: right;\">\n",
       "      <th></th>\n",
       "      <th>Name</th>\n",
       "      <th>MSE Training Scores</th>\n",
       "      <th>MSE Testing Scores</th>\n",
       "      <th>R2 Training Scores</th>\n",
       "      <th>R2 Testing Scores</th>\n",
       "    </tr>\n",
       "  </thead>\n",
       "  <tbody>\n",
       "    <tr>\n",
       "      <th>0</th>\n",
       "      <td>Linear</td>\n",
       "      <td>0.245318</td>\n",
       "      <td>0.250996</td>\n",
       "      <td>74.798814</td>\n",
       "      <td>74.457824</td>\n",
       "    </tr>\n",
       "    <tr>\n",
       "      <th>1</th>\n",
       "      <td>DecisionTree</td>\n",
       "      <td>0.000197</td>\n",
       "      <td>0.404235</td>\n",
       "      <td>99.979734</td>\n",
       "      <td>58.863803</td>\n",
       "    </tr>\n",
       "    <tr>\n",
       "      <th>2</th>\n",
       "      <td>RandomForest</td>\n",
       "      <td>0.027985</td>\n",
       "      <td>0.193996</td>\n",
       "      <td>97.125145</td>\n",
       "      <td>80.258328</td>\n",
       "    </tr>\n",
       "    <tr>\n",
       "      <th>3</th>\n",
       "      <td>GradientBoosting</td>\n",
       "      <td>0.190072</td>\n",
       "      <td>0.210263</td>\n",
       "      <td>80.474183</td>\n",
       "      <td>78.602952</td>\n",
       "    </tr>\n",
       "    <tr>\n",
       "      <th>4</th>\n",
       "      <td>KNN</td>\n",
       "      <td>0.177332</td>\n",
       "      <td>0.284625</td>\n",
       "      <td>81.782958</td>\n",
       "      <td>71.035716</td>\n",
       "    </tr>\n",
       "    <tr>\n",
       "      <th>5</th>\n",
       "      <td>SVR</td>\n",
       "      <td>0.970029</td>\n",
       "      <td>0.974496</td>\n",
       "      <td>0.350392</td>\n",
       "      <td>0.832269</td>\n",
       "    </tr>\n",
       "  </tbody>\n",
       "</table>\n",
       "</div>"
      ],
      "text/plain": [
       "               Name  MSE Training Scores  MSE Testing Scores  \\\n",
       "0            Linear             0.245318            0.250996   \n",
       "1      DecisionTree             0.000197            0.404235   \n",
       "2      RandomForest             0.027985            0.193996   \n",
       "3  GradientBoosting             0.190072            0.210263   \n",
       "4               KNN             0.177332            0.284625   \n",
       "5               SVR             0.970029            0.974496   \n",
       "\n",
       "   R2 Training Scores  R2 Testing Scores  \n",
       "0           74.798814          74.457824  \n",
       "1           99.979734          58.863803  \n",
       "2           97.125145          80.258328  \n",
       "3           80.474183          78.602952  \n",
       "4           81.782958          71.035716  \n",
       "5            0.350392           0.832269  "
      ]
     },
     "execution_count": 39,
     "metadata": {},
     "output_type": "execute_result"
    }
   ],
   "source": [
    "df_res = pd.DataFrame(res)\n",
    "df_res\n"
   ]
  },
  {
   "cell_type": "code",
   "execution_count": 40,
   "id": "034d0d83",
   "metadata": {},
   "outputs": [],
   "source": [
    "#Random forest perform well with 80% of accuracy"
   ]
  },
  {
   "cell_type": "markdown",
   "id": "642d0e5f",
   "metadata": {},
   "source": [
    "# Evaluation Metrics"
   ]
  },
  {
   "cell_type": "code",
   "execution_count": 41,
   "id": "6ca74d69",
   "metadata": {},
   "outputs": [],
   "source": [
    "\n",
    "\n",
    "\n",
    "from sklearn.metrics import mean_absolute_error,mean_squared_error,r2_score"
   ]
  },
  {
   "cell_type": "code",
   "execution_count": 42,
   "id": "3ab8c33c",
   "metadata": {},
   "outputs": [],
   "source": [
    "def eval_model(model,xtrain,ytrain):\n",
    "    # Fit the model\n",
    "    model.fit(xtrain,ytrain)\n",
    "    # Predict the scores\n",
    "    ypred_test = model.predict(xtest)\n",
    "    # Calculate MSE,RMSE,MAE,R2 scores\n",
    "    mse = mean_squared_error(ytest,ypred_test)\n",
    "    rmse = mse**(1/2)\n",
    "    mae = mean_absolute_error(ytest,ypred_test)\n",
    "    r2 = r2_score(ytest,ypred_test)\n",
    "    return mse,rmse,mae,r2"
   ]
  },
  {
   "cell_type": "code",
   "execution_count": 43,
   "id": "8644bec2",
   "metadata": {},
   "outputs": [
    {
     "name": "stdout",
     "output_type": "stream",
     "text": [
      "Model: LinearRegression\n",
      "MSE: 0.251\n",
      "RMSE: 0.501\n",
      "MAE: 0.331\n",
      "R^2: 0.745\n",
      "----------------------------\n",
      "Model: DecisionTreeRegressor\n",
      "MSE: 0.423\n",
      "RMSE: 0.650\n",
      "MAE: 0.332\n",
      "R^2: 0.570\n",
      "----------------------------\n",
      "Model: RandomForestRegressor\n"
     ]
    },
    {
     "name": "stderr",
     "output_type": "stream",
     "text": [
      "C:\\Users\\djeev\\anaconda3\\Lib\\site-packages\\sklearn\\base.py:1474: DataConversionWarning: A column-vector y was passed when a 1d array was expected. Please change the shape of y to (n_samples,), for example using ravel().\n",
      "  return fit_method(estimator, *args, **kwargs)\n"
     ]
    },
    {
     "name": "stdout",
     "output_type": "stream",
     "text": [
      "MSE: 0.196\n",
      "RMSE: 0.443\n",
      "MAE: 0.237\n",
      "R^2: 0.801\n",
      "----------------------------\n",
      "Model: GradientBoostingRegressor\n"
     ]
    },
    {
     "name": "stderr",
     "output_type": "stream",
     "text": [
      "C:\\Users\\djeev\\anaconda3\\Lib\\site-packages\\sklearn\\ensemble\\_gb.py:668: DataConversionWarning: A column-vector y was passed when a 1d array was expected. Please change the shape of y to (n_samples, ), for example using ravel().\n",
      "  y = column_or_1d(y, warn=True)  # TODO: Is this still required?\n"
     ]
    },
    {
     "name": "stdout",
     "output_type": "stream",
     "text": [
      "MSE: 0.210\n",
      "RMSE: 0.458\n",
      "MAE: 0.283\n",
      "R^2: 0.786\n",
      "----------------------------\n",
      "Model: KNeighborsRegressor\n",
      "MSE: 0.285\n",
      "RMSE: 0.534\n",
      "MAE: 0.310\n",
      "R^2: 0.710\n",
      "----------------------------\n",
      "Model: SVR\n"
     ]
    },
    {
     "name": "stderr",
     "output_type": "stream",
     "text": [
      "C:\\Users\\djeev\\anaconda3\\Lib\\site-packages\\sklearn\\utils\\validation.py:1300: DataConversionWarning: A column-vector y was passed when a 1d array was expected. Please change the shape of y to (n_samples, ), for example using ravel().\n",
      "  y = column_or_1d(y, warn=True)\n"
     ]
    },
    {
     "name": "stdout",
     "output_type": "stream",
     "text": [
      "MSE: 0.974\n",
      "RMSE: 0.987\n",
      "MAE: 0.626\n",
      "R^2: 0.008\n",
      "----------------------------\n"
     ]
    }
   ],
   "source": [
    "models = [LinearRegression(), DecisionTreeRegressor(), RandomForestRegressor(),GradientBoostingRegressor(),KNeighborsRegressor(),SVR()]\n",
    "\n",
    "# Evaluate the models\n",
    "for model in models:\n",
    "    print(f\"Model: {model.__class__.__name__}\")\n",
    "    mse, rmse, mae, r2 = eval_model(model, xtrain, ytrain)\n",
    "    print(f\"MSE: {mse:.3f}\")\n",
    "    print(f\"RMSE: {rmse:.3f}\")\n",
    "    print(f\"MAE: {mae:.3f}\")\n",
    "    print(f\"R^2: {r2:.3f}\")\n",
    "    print(\"----------------------------\")"
   ]
  },
  {
   "cell_type": "markdown",
   "id": "49b0cece",
   "metadata": {},
   "source": [
    "# conclusion"
   ]
  },
  {
   "cell_type": "markdown",
   "id": "cc121169",
   "metadata": {},
   "source": [
    "1.The most of the movies are Drama,Action and followed by Romance\n",
    "\n",
    "2. Year 2020 an Indian movie recieved 10.0 points\n",
    "\n",
    "3. pran appears in most of the movies\n",
    "\n",
    "4. The correlation plot indicate that the director, specific actors, and number of votes have a strong positive relationship with higher movie ratings, while the genre has a weaker positive correlation, and the year of release has a negligible negative correlation.\n",
    "\n",
    "5. Random Forest performs well with 80% of accuracy\n",
    "\n",
    "6.In Evaluation Metrics compare to other model Random Forest perform with low error MSE: 0.196, RMSE: 0.443, MAE: 0.237"
   ]
  },
  {
   "cell_type": "code",
   "execution_count": null,
   "id": "e9df7d59",
   "metadata": {},
   "outputs": [],
   "source": []
  },
  {
   "cell_type": "code",
   "execution_count": null,
   "id": "35793981",
   "metadata": {},
   "outputs": [],
   "source": []
  }
 ],
 "metadata": {
  "kernelspec": {
   "display_name": "Python 3 (ipykernel)",
   "language": "python",
   "name": "python3"
  },
  "language_info": {
   "codemirror_mode": {
    "name": "ipython",
    "version": 3
   },
   "file_extension": ".py",
   "mimetype": "text/x-python",
   "name": "python",
   "nbconvert_exporter": "python",
   "pygments_lexer": "ipython3",
   "version": "3.11.5"
  }
 },
 "nbformat": 4,
 "nbformat_minor": 5
}
